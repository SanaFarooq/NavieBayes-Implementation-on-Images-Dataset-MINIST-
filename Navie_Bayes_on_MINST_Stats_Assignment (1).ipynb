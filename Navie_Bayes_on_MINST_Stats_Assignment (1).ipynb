{
  "nbformat": 4,
  "nbformat_minor": 0,
  "metadata": {
    "colab": {
      "provenance": []
    },
    "kernelspec": {
      "name": "python3",
      "display_name": "Python 3"
    },
    "language_info": {
      "name": "python"
    }
  },
  "cells": [
    {
      "cell_type": "markdown",
      "source": [
        "Assignment no 3 - NAVIE BAYES IMPLEMENTATION ON MINST DATA SET\n",
        "Submitted BY: Sana Farooq 23L-8000 , Amna Akbar 23L-7802"
      ],
      "metadata": {
        "id": "pX1OAyIMXcxl"
      }
    },
    {
      "cell_type": "code",
      "source": [
        "import numpy as np\n",
        "import matplotlib.pyplot as plt\n",
        "from sklearn.naive_bayes import GaussianNB\n",
        "from sklearn.metrics import confusion_matrix\n",
        "from tensorflow.keras.datasets import mnist"
      ],
      "metadata": {
        "id": "Hc1e-w_3Xgvv"
      },
      "execution_count": 1,
      "outputs": []
    },
    {
      "cell_type": "code",
      "source": [
        "(x_train,y_train), (x_test, y_test) = mnist.load_data()\n",
        "x_train = x_train.reshape(60000, 784)\n",
        "x_test = x_test.reshape(10000 , 784)\n",
        "\n"
      ],
      "metadata": {
        "id": "ED_aASFaR-Sx",
        "colab": {
          "base_uri": "https://localhost:8080/"
        },
        "outputId": "1cd4f8de-30dd-43fa-86c8-a6ea9aa327c6"
      },
      "execution_count": 2,
      "outputs": [
        {
          "output_type": "stream",
          "name": "stdout",
          "text": [
            "Downloading data from https://storage.googleapis.com/tensorflow/tf-keras-datasets/mnist.npz\n",
            "11490434/11490434 [==============================] - 0s 0us/step\n"
          ]
        }
      ]
    },
    {
      "cell_type": "code",
      "source": [
        "x_test"
      ],
      "metadata": {
        "colab": {
          "base_uri": "https://localhost:8080/"
        },
        "id": "nPvwBIIrTWbx",
        "outputId": "54b5fe38-c5bc-4df0-d634-507ec6d711ec"
      },
      "execution_count": 3,
      "outputs": [
        {
          "output_type": "execute_result",
          "data": {
            "text/plain": [
              "array([[0, 0, 0, ..., 0, 0, 0],\n",
              "       [0, 0, 0, ..., 0, 0, 0],\n",
              "       [0, 0, 0, ..., 0, 0, 0],\n",
              "       ...,\n",
              "       [0, 0, 0, ..., 0, 0, 0],\n",
              "       [0, 0, 0, ..., 0, 0, 0],\n",
              "       [0, 0, 0, ..., 0, 0, 0]], dtype=uint8)"
            ]
          },
          "metadata": {},
          "execution_count": 3
        }
      ]
    },
    {
      "cell_type": "code",
      "source": [
        "plt.imshow(x_train[8].reshape((28 ,28 )), cmap = 'gray')\n",
        "plt.show()"
      ],
      "metadata": {
        "colab": {
          "base_uri": "https://localhost:8080/",
          "height": 430
        },
        "id": "gL__TsAJTgoL",
        "outputId": "359e4016-b950-4227-efe6-71b077a6615d"
      },
      "execution_count": 4,
      "outputs": [
        {
          "output_type": "display_data",
          "data": {
            "text/plain": [
              "<Figure size 640x480 with 1 Axes>"
            ],
            "image/png": "[encoded data removed]"
          },
          "metadata": {}
        }
      ]
    },
    {
      "cell_type": "code",
      "source": [
        "nb_model = GaussianNB()"
      ],
      "metadata": {
        "id": "xfkuxAvdUOhq"
      },
      "execution_count": 5,
      "outputs": []
    },
    {
      "cell_type": "code",
      "source": [
        "fit_nb = nb_model.fit(x_train, y_train)"
      ],
      "metadata": {
        "id": "VxNprMapVZRF"
      },
      "execution_count": 6,
      "outputs": []
    },
    {
      "cell_type": "code",
      "source": [
        "predictions = fit_nb.predict(x_test)\n",
        "con_matrix = confusion_matrix(y_test, predictions)\n",
        "print(con_matrix)"
      ],
      "metadata": {
        "colab": {
          "base_uri": "https://localhost:8080/"
        },
        "id": "PtCHp3K3Voof",
        "outputId": "67734620-58ed-43ae-d636-304a9a838368"
      },
      "execution_count": 7,
      "outputs": [
        {
          "output_type": "stream",
          "name": "stdout",
          "text": [
            "[[ 870    0    3    5    2    5   31    1   35   28]\n",
            " [   0 1079    2    1    0    0   10    0   38    5]\n",
            " [  79   25  266   91    5    2  269    4  271   20]\n",
            " [  32   39    6  353    2    3   51    8  409  107]\n",
            " [  19    2    5    4  168    7   63    7  210  497]\n",
            " [  71   25    1   20    3   44   40    2  586  100]\n",
            " [  12   12    3    1    1    7  895    0   26    1]\n",
            " [   0   15    2   10    5    1    5  280   39  671]\n",
            " [  13   72    3    7    3   11   12    4  648  201]\n",
            " [   5    7    3    6    1    0    1   13   18  955]]\n"
          ]
        }
      ]
    },
    {
      "cell_type": "code",
      "source": [
        "def diagonal_sum(con_matrix):\n",
        "    sum = 0\n",
        "    for i in range(10):\n",
        "        for j in range(10):\n",
        "            if i == j:\n",
        "                sum += con_matrix[i, j]  # Access the element at row i and column j in the confusion matrix\n",
        "\n",
        "    return sum"
      ],
      "metadata": {
        "id": "9eHHAfSuWcgI"
      },
      "execution_count": 8,
      "outputs": []
    },
    {
      "cell_type": "code",
      "source": [
        "sum = diagonal_sum(con_matrix)\n",
        "print(sum)\n",
        "print(f'Accuracy % : {sum/10000}')"
      ],
      "metadata": {
        "colab": {
          "base_uri": "https://localhost:8080/"
        },
        "id": "JUR667J0JHUe",
        "outputId": "f1352bc6-7d28-42e6-db7f-6bf91b632798"
      },
      "execution_count": 9,
      "outputs": [
        {
          "output_type": "stream",
          "name": "stdout",
          "text": [
            "5558\n",
            "Accuracy % : 0.5558\n"
          ]
        }
      ]
    },
    {
      "cell_type": "markdown",
      "source": [
        "Classification report for test data"
      ],
      "metadata": {
        "id": "85vn6KbX0Bxv"
      }
    },
    {
      "cell_type": "code",
      "source": [
        "from sklearn.metrics import classification_report\n",
        "print(classification_report(y_test, predictions))"
      ],
      "metadata": {
        "colab": {
          "base_uri": "https://localhost:8080/"
        },
        "id": "y-HBR8RNz4b6",
        "outputId": "ce89122e-e56e-4ba6-9cc3-8313b0dcb697"
      },
      "execution_count": 10,
      "outputs": [
        {
          "output_type": "stream",
          "name": "stdout",
          "text": [
            "              precision    recall  f1-score   support\n",
            "\n",
            "           0       0.79      0.89      0.84       980\n",
            "           1       0.85      0.95      0.90      1135\n",
            "           2       0.90      0.26      0.40      1032\n",
            "           3       0.71      0.35      0.47      1010\n",
            "           4       0.88      0.17      0.29       982\n",
            "           5       0.55      0.05      0.09       892\n",
            "           6       0.65      0.93      0.77       958\n",
            "           7       0.88      0.27      0.42      1028\n",
            "           8       0.28      0.67      0.40       974\n",
            "           9       0.37      0.95      0.53      1009\n",
            "\n",
            "    accuracy                           0.56     10000\n",
            "   macro avg       0.69      0.55      0.51     10000\n",
            "weighted avg       0.69      0.56      0.52     10000\n",
            "\n"
          ]
        }
      ]
    },
    {
      "cell_type": "markdown",
      "source": [
        "Prdiction of X train as previous prediction were on x test."
      ],
      "metadata": {
        "id": "LLNNFUgUM-XD"
      }
    },
    {
      "cell_type": "code",
      "source": [
        "predictions_2 = fit_nb.predict(x_train)\n",
        "con_matrix_2 = confusion_matrix(y_train, predictions_2)\n",
        "print(con_matrix_2)"
      ],
      "metadata": {
        "colab": {
          "base_uri": "https://localhost:8080/"
        },
        "id": "4YszLiYbNFTD",
        "outputId": "e8e86efe-9ca9-4fca-8bd0-0c71b25c0b42"
      },
      "execution_count": 11,
      "outputs": [
        {
          "output_type": "stream",
          "name": "stdout",
          "text": [
            "[[5206    9   33   16    9   13  165    5  356  111]\n",
            " [   4 6341   15   33    3   12   74    4  173   83]\n",
            " [ 484  152 1786  474   33   37 1443   17 1444   88]\n",
            " [ 274  295   49 2277   11   15  268   46 2274  622]\n",
            " [ 114   39   49   33 1027   35  483   21 1259 2782]\n",
            " [ 525  122   33  125   34  336  273   11 3411  551]\n",
            " [  47   92   25    3    4   19 5572    0  148    8]\n",
            " [  27   36    9   54   51    8   15 1919  190 3956]\n",
            " [  88  722   23   51   19   33   80    6 3802 1027]\n",
            " [  30   31   17    7   33    4    4   83  112 5628]]\n"
          ]
        }
      ]
    },
    {
      "cell_type": "code",
      "source": [
        "def diagonal_sum(con_matrix_2):\n",
        "    sum_2 = 0\n",
        "    for i in range(10):\n",
        "        for j in range(10):\n",
        "            if i == j:\n",
        "                sum_2 += con_matrix_2[i, j]  # Access the element at row i and column j in the confusion matrix\n",
        "\n",
        "    return sum_2"
      ],
      "metadata": {
        "id": "vkyYmOMENUJC"
      },
      "execution_count": null,
      "outputs": []
    },
    {
      "cell_type": "code",
      "source": [
        "sum_2 = diagonal_sum(con_matrix_2)\n",
        "print(sum_2)\n",
        "print(f'Accuracy % : {sum/60000}')"
      ],
      "metadata": {
        "colab": {
          "base_uri": "https://localhost:8080/"
        },
        "id": "HsulzAt5NwMB",
        "outputId": "ffd936e8-e855-4658-d5dc-d6c832906a74"
      },
      "execution_count": null,
      "outputs": [
        {
          "output_type": "stream",
          "name": "stdout",
          "text": [
            "33894\n",
            "Accuracy % : 0.09263333333333333\n"
          ]
        }
      ]
    },
    {
      "cell_type": "markdown",
      "source": [
        "Classification report for train data"
      ],
      "metadata": {
        "id": "nn4N5zg80IRu"
      }
    },
    {
      "cell_type": "code",
      "source": [
        "from sklearn.metrics import classification_report\n",
        "print(classification_report(y_train, predictions_2))"
      ],
      "metadata": {
        "colab": {
          "base_uri": "https://localhost:8080/"
        },
        "id": "cvV0wbu6zNYk",
        "outputId": "697c906c-77f8-4c1c-dfa5-5fbb2603a47d"
      },
      "execution_count": null,
      "outputs": [
        {
          "output_type": "stream",
          "name": "stdout",
          "text": [
            "              precision    recall  f1-score   support\n",
            "\n",
            "           0       0.77      0.88      0.82      5923\n",
            "           1       0.81      0.94      0.87      6742\n",
            "           2       0.88      0.30      0.45      5958\n",
            "           3       0.74      0.37      0.49      6131\n",
            "           4       0.84      0.18      0.29      5842\n",
            "           5       0.66      0.06      0.11      5421\n",
            "           6       0.67      0.94      0.78      5918\n",
            "           7       0.91      0.31      0.46      6265\n",
            "           8       0.29      0.65      0.40      5851\n",
            "           9       0.38      0.95      0.54      5949\n",
            "\n",
            "    accuracy                           0.56     60000\n",
            "   macro avg       0.69      0.56      0.52     60000\n",
            "weighted avg       0.70      0.56      0.53     60000\n",
            "\n"
          ]
        }
      ]
    },
    {
      "cell_type": "code",
      "source": [
        "plt.imshow(con_matrix, cmap = 'magma', interpolation = 'nearest')\n",
        "plt.xlabel('predictions')\n",
        "plt.ylabel('actual values')\n",
        "plt.show()\n"
      ],
      "metadata": {
        "colab": {
          "base_uri": "https://localhost:8080/",
          "height": 449
        },
        "id": "nYA5CLGzN63p",
        "outputId": "fa5d606b-1ea2-402e-82ff-31f8fb93615e"
      },
      "execution_count": null,
      "outputs": [
        {
          "output_type": "display_data",
          "data": {
            "text/plain": [
              "<Figure size 640x480 with 1 Axes>"
            ],
            "image/png": "[encoded data removed]"
          },
          "metadata": {}
        }
      ]
    },
    {
      "cell_type": "code",
      "source": [
        "plt.imshow(con_matrix_2, cmap = 'inferno', interpolation = 'nearest')\n",
        "plt.xlabel('predictions_2')\n",
        "plt.ylabel('actual values')\n",
        "plt.show()"
      ],
      "metadata": {
        "colab": {
          "base_uri": "https://localhost:8080/",
          "height": 450
        },
        "id": "6D8TcAOeOvF2",
        "outputId": "377c3c3b-b6d0-4d0e-9b6d-28f926e629dd"
      },
      "execution_count": null,
      "outputs": [
        {
          "output_type": "display_data",
          "data": {
            "text/plain": [
              "<Figure size 640x480 with 1 Axes>"
            ],
            "image/png": "[encoded data removed]"
          },
          "metadata": {}
        }
      ]
    },
    {
      "cell_type": "code",
      "source": [
        "print(5310/60000)\n",
        "print(870/10000)"
      ],
      "metadata": {
        "colab": {
          "base_uri": "https://localhost:8080/"
        },
        "id": "l7wIE1U9PAcV",
        "outputId": "1c0141cb-1acc-4d02-cff7-b552d33a1680"
      },
      "execution_count": null,
      "outputs": [
        {
          "output_type": "stream",
          "name": "stdout",
          "text": [
            "0.0885\n",
            "0.087\n"
          ]
        }
      ]
    },
    {
      "cell_type": "code",
      "source": [],
      "metadata": {
        "id": "TdkdQC2xrb0m"
      },
      "execution_count": null,
      "outputs": []
    }
  ]
}